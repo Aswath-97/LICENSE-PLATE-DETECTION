{
 "cells": [
  {
   "cell_type": "code",
   "execution_count": 24,
   "id": "3fe9d1d1",
   "metadata": {},
   "outputs": [],
   "source": [
    "import cv2\n",
    "import pytesseract"
   ]
  },
  {
   "cell_type": "code",
   "execution_count": 25,
   "id": "a39344c5",
   "metadata": {},
   "outputs": [],
   "source": [
    "pytesseract.pytesseract.tesseract_cmd = r'C:\\Program Files\\Tesseract-OCR\\tesseract.exe'"
   ]
  },
  {
   "cell_type": "code",
   "execution_count": 26,
   "id": "127675e3",
   "metadata": {},
   "outputs": [
    {
     "data": {
      "text/plain": [
       "array([[45, 45, 45, ..., 45, 45, 45],\n",
       "       [45, 45, 45, ..., 45, 45, 45],\n",
       "       [45, 45, 45, ..., 45, 45, 45],\n",
       "       ...,\n",
       "       [45, 45, 45, ..., 45, 45, 45],\n",
       "       [45, 45, 45, ..., 45, 45, 45],\n",
       "       [45, 45, 45, ..., 45, 45, 45]], dtype=uint8)"
      ]
     },
     "execution_count": 26,
     "metadata": {},
     "output_type": "execute_result"
    }
   ],
   "source": [
    "img = cv2.imread(\"C:\\\\Users\\\\naray\\\\OneDrive\\\\Desktop\\\\Binary image.jpg\",0)\n",
    "img"
   ]
  },
  {
   "cell_type": "code",
   "execution_count": 27,
   "id": "aaed781b",
   "metadata": {},
   "outputs": [
    {
     "name": "stdout",
     "output_type": "stream",
     "text": [
      "WHETHER IT'S THE BEST OF TIMES OR THE\n",
      "WORST OF TIMES, IT'S THE ONLY TIME\n",
      "WE'VE GOT.\n",
      "\n",
      "- ART BUCHWALD -\n",
      "\n"
     ]
    }
   ],
   "source": [
    "print(pytesseract.image_to_string(img))"
   ]
  },
  {
   "cell_type": "code",
   "execution_count": 28,
   "id": "8b986ffe",
   "metadata": {},
   "outputs": [],
   "source": [
    "hI,wI = img.shape\n",
    "boxes = pytesseract.image_to_boxes(img)"
   ]
  },
  {
   "cell_type": "code",
   "execution_count": 29,
   "id": "9d6c8c35",
   "metadata": {},
   "outputs": [
    {
     "name": "stdout",
     "output_type": "stream",
     "text": [
      "W 158 405 198 447 0\n",
      "H 201 405 225 443 0\n",
      "E 231 405 251 443 0\n",
      "T 244 405 266 447 0\n",
      "H 256 405 278 443 0\n",
      "E 283 405 307 443 0\n",
      "R 313 405 363 443 0\n",
      "I 380 404 384 447 0\n",
      "T 380 405 390 443 0\n",
      "' 395 405 426 447 0\n",
      "S 432 404 452 444 0\n",
      "T 468 405 490 443 0\n",
      "H 495 405 519 443 0\n",
      "E 525 405 545 443 0\n",
      "B 563 405 585 443 0\n",
      "E 591 405 611 443 0\n",
      "S 617 404 637 444 0\n",
      "T 642 405 664 443 0\n",
      "O 681 404 703 444 0\n",
      "F 710 405 730 443 0\n",
      "T 744 405 766 443 0\n",
      "I 771 405 781 443 0\n",
      "M 786 405 819 443 0\n",
      "E 825 405 845 443 0\n",
      "S 851 404 871 444 0\n",
      "O 890 404 912 444 0\n",
      "R 918 405 942 443 0\n",
      "T 958 405 980 443 0\n",
      "H 985 405 1009 443 0\n",
      "E 1015 405 1035 443 0\n",
      "W 207 332 243 370 0\n",
      "O 248 331 270 371 0\n",
      "R 261 331 283 371 0\n",
      "S 276 332 300 370 0\n",
      "T 305 331 352 371 0\n",
      "O 370 331 392 371 0\n",
      "F 398 332 418 370 0\n",
      "T 432 332 454 370 0\n",
      "I 460 332 470 370 0\n",
      "M 475 332 508 370 0\n",
      "E 496 328 518 371 0\n",
      "S 513 332 533 370 0\n",
      ", 539 328 569 371 0\n",
      "I 587 332 597 370 0\n",
      "T 602 332 624 370 0\n",
      "' 629 362 633 374 0\n",
      "S 639 331 659 371 0\n",
      "T 675 332 697 370 0\n",
      "H 702 332 726 370 0\n",
      "E 732 332 752 370 0\n",
      "O 771 331 793 371 0\n",
      "N 799 332 822 370 0\n",
      "L 828 332 848 370 0\n",
      "Y 848 332 872 370 0\n",
      "T 884 332 906 370 0\n",
      "I 912 332 922 370 0\n",
      "M 927 332 960 370 0\n",
      "E 965 332 985 370 0\n",
      "W 481 259 517 297 0\n",
      "E 503 259 531 301 0\n",
      "' 521 259 551 301 0\n",
      "V 554 259 581 297 0\n",
      "E 584 259 604 297 0\n",
      "G 623 258 645 297 0\n",
      "O 637 258 664 298 0\n",
      "T 652 258 674 298 0\n",
      ". 680 258 711 297 0\n",
      "- 443 191 453 194 0\n",
      "A 464 176 488 210 0\n",
      "R 490 176 510 206 0\n",
      "T 512 176 531 206 0\n",
      "B 542 176 562 210 0\n",
      "U 566 175 586 206 0\n",
      "C 590 175 607 207 0\n",
      "H 612 176 632 206 0\n",
      "W 635 176 664 206 0\n",
      "A 651 175 669 210 0\n",
      "L 664 176 686 206 0\n",
      "D 688 176 725 206 0\n",
      "- 740 191 750 194 0\n",
      "\n"
     ]
    }
   ],
   "source": [
    "print(boxes)"
   ]
  },
  {
   "cell_type": "code",
   "execution_count": 30,
   "id": "0df954ad",
   "metadata": {},
   "outputs": [],
   "source": [
    "for b in boxes.splitlines() :\n",
    "    b = b.split()\n",
    "    x,y,w,h = int(b[1]),int(b[2]),int(b[3]),int(b[4])\n",
    "    cv2.rectangle(img,(x,hI-y),(w,hI-h),(255,255,255),1)\n",
    "    cv2.putText(img,b[0],(x,hI-y+25),cv2.FONT_HERSHEY_COMPLEX,1,(50,50,255),2)"
   ]
  },
  {
   "cell_type": "code",
   "execution_count": 31,
   "id": "b419a3a2",
   "metadata": {},
   "outputs": [],
   "source": [
    "cv2.imshow('TEXT IMAGE',img)\n",
    "cv2.waitKey(0)\n",
    "cv2.destroyAllWindows()"
   ]
  },
  {
   "cell_type": "code",
   "execution_count": null,
   "id": "04d2b31a",
   "metadata": {},
   "outputs": [],
   "source": []
  },
  {
   "cell_type": "code",
   "execution_count": null,
   "id": "c78db21f",
   "metadata": {},
   "outputs": [],
   "source": []
  }
 ],
 "metadata": {
  "kernelspec": {
   "display_name": "Python 3 (ipykernel)",
   "language": "python",
   "name": "python3"
  },
  "language_info": {
   "codemirror_mode": {
    "name": "ipython",
    "version": 3
   },
   "file_extension": ".py",
   "mimetype": "text/x-python",
   "name": "python",
   "nbconvert_exporter": "python",
   "pygments_lexer": "ipython3",
   "version": "3.9.7"
  }
 },
 "nbformat": 4,
 "nbformat_minor": 5
}

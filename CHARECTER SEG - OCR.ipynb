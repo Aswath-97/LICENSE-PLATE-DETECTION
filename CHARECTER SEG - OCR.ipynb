{
 "cells": [
  {
   "cell_type": "code",
   "execution_count": 39,
   "id": "a2734e57",
   "metadata": {},
   "outputs": [],
   "source": [
    "import cv2\n",
    "import pytesseract"
   ]
  },
  {
   "cell_type": "code",
   "execution_count": 40,
   "id": "b1bb0479",
   "metadata": {},
   "outputs": [],
   "source": [
    "pytesseract.pytesseract.tesseract_cmd = r'C:\\Program Files\\Tesseract-OCR\\tesseract.exe'"
   ]
  },
  {
   "cell_type": "code",
   "execution_count": 41,
   "id": "6ac94c19",
   "metadata": {},
   "outputs": [
    {
     "data": {
      "text/plain": [
       "array([[255, 255, 255, ..., 255, 255, 255],\n",
       "       [255, 255, 255, ..., 255, 255, 255],\n",
       "       [255, 255, 255, ..., 255, 255, 255],\n",
       "       ...,\n",
       "       [255, 255, 255, ..., 255, 255, 255],\n",
       "       [255, 255, 255, ..., 255, 255, 255],\n",
       "       [255, 255, 255, ..., 255, 255, 255]], dtype=uint8)"
      ]
     },
     "execution_count": 41,
     "metadata": {},
     "output_type": "execute_result"
    }
   ],
   "source": [
    "img = cv2.imread(\"C:\\\\Users\\\\naray\\\\OneDrive\\\\Desktop\\\\text image.png\",0)\n",
    "img"
   ]
  },
  {
   "cell_type": "code",
   "execution_count": 42,
   "id": "a3785b43",
   "metadata": {},
   "outputs": [
    {
     "name": "stdout",
     "output_type": "stream",
     "text": [
      "It was the best of\n",
      "times, it was the worst\n",
      "of times, it was the age\n",
      "of wisdom, it was the\n",
      "age of foolishness...\n",
      "\n"
     ]
    }
   ],
   "source": [
    "print(pytesseract.image_to_string(img))"
   ]
  },
  {
   "cell_type": "code",
   "execution_count": 43,
   "id": "b1f610e9",
   "metadata": {},
   "outputs": [],
   "source": [
    "hI,wI = img.shape\n",
    "boxes = pytesseract.image_to_boxes(img)"
   ]
  },
  {
   "cell_type": "code",
   "execution_count": 44,
   "id": "f592afb5",
   "metadata": {},
   "outputs": [
    {
     "name": "stdout",
     "output_type": "stream",
     "text": [
      "I 21 367 43 415 0\n",
      "t 46 366 67 403 0\n",
      "w 85 366 137 397 0\n",
      "a 138 366 166 398 0\n",
      "s 170 366 191 398 0\n",
      "t 213 366 234 403 0\n",
      "h 237 367 274 417 0\n",
      "e 277 366 304 398 0\n",
      "b 325 365 359 418 0\n",
      "e 365 366 392 398 0\n",
      "s 382 365 407 418 0\n",
      "t 398 366 445 403 0\n",
      "o 467 366 499 398 0\n",
      "f 504 367 531 417 0\n",
      "t 19 283 40 320 0\n",
      "i 44 284 61 331 0\n",
      "m 64 284 118 315 0\n",
      "e 103 272 134 331 0\n",
      "s 121 283 149 315 0\n",
      ", 155 272 192 315 0\n",
      "i 215 284 231 331 0\n",
      "t 234 283 256 320 0\n",
      "w 273 283 325 314 0\n",
      "a 326 283 355 315 0\n",
      "s 358 283 379 315 0\n",
      "t 401 283 423 320 0\n",
      "h 426 284 462 334 0\n",
      "e 465 283 493 315 0\n",
      "w 511 283 563 314 0\n",
      "o 563 283 595 315 0\n",
      "r 599 284 623 315 0\n",
      "s 626 283 648 315 0\n",
      "t 652 283 674 320 0\n",
      "o 19 200 51 232 0\n",
      "f 57 201 84 251 0\n",
      "t 97 200 118 237 0\n",
      "i 122 201 138 248 0\n",
      "m 142 201 196 233 0\n",
      "e 181 189 208 248 0\n",
      "s 199 200 227 232 0\n",
      ", 232 189 270 232 0\n",
      "i 292 201 308 248 0\n",
      "t 312 200 333 237 0\n",
      "w 351 200 402 231 0\n",
      "a 404 200 432 232 0\n",
      "s 436 200 457 232 0\n",
      "t 479 200 500 237 0\n",
      "h 504 201 540 251 0\n",
      "e 543 200 570 232 0\n",
      "a 593 200 622 232 0\n",
      "g 622 182 656 232 0\n",
      "e 658 200 685 232 0\n",
      "o 19 117 51 149 0\n",
      "f 57 118 84 168 0\n",
      "w 93 117 144 148 0\n",
      "i 145 118 161 164 0\n",
      "s 165 117 187 149 0\n",
      "d 192 117 226 169 0\n",
      "o 229 117 261 149 0\n",
      "m 261 106 291 169 0\n",
      ", 266 106 335 149 0\n",
      "i 358 118 373 164 0\n",
      "t 377 118 399 154 0\n",
      "w 416 117 467 148 0\n",
      "a 469 117 497 149 0\n",
      "s 501 117 522 149 0\n",
      "t 544 118 565 154 0\n",
      "h 569 118 605 168 0\n",
      "e 608 117 636 149 0\n",
      "a 20 34 48 66 0\n",
      "g 49 16 82 66 0\n",
      "e 84 34 112 66 0\n",
      "o 134 34 166 66 0\n",
      "f 172 35 199 86 0\n",
      "f 213 35 240 86 0\n",
      "o 235 34 268 66 0\n",
      "o 273 34 304 66 0\n",
      "l 289 34 315 86 0\n",
      "i 308 35 343 86 0\n",
      "s 347 34 369 66 0\n",
      "h 373 35 409 86 0\n",
      "n 399 34 426 86 0\n",
      "e 411 35 447 66 0\n",
      "s 450 34 477 66 0\n",
      "s 483 34 504 66 0\n",
      ". 510 34 531 66 0\n",
      ". 538 35 545 42 0\n",
      ". 554 35 580 42 0\n",
      "\n"
     ]
    }
   ],
   "source": [
    "print(boxes)"
   ]
  },
  {
   "cell_type": "code",
   "execution_count": 45,
   "id": "02848e45",
   "metadata": {},
   "outputs": [],
   "source": [
    "for b in boxes.splitlines() :\n",
    "    b = b.split()\n",
    "    x,y,w,h = int(b[1]),int(b[2]),int(b[3]),int(b[4])\n",
    "    cv2.rectangle(img,(x,hI-y),(w,hI-h),(0,0,255),1)"
   ]
  },
  {
   "cell_type": "code",
   "execution_count": 47,
   "id": "b328a05f",
   "metadata": {},
   "outputs": [],
   "source": [
    "cv2.imshow('TEXT IMAGE',img)\n",
    "cv2.waitKey(0)\n",
    "cv2.destroyAllWindows()"
   ]
  },
  {
   "cell_type": "code",
   "execution_count": null,
   "id": "c67e9e58",
   "metadata": {},
   "outputs": [],
   "source": []
  }
 ],
 "metadata": {
  "kernelspec": {
   "display_name": "Python 3 (ipykernel)",
   "language": "python",
   "name": "python3"
  },
  "language_info": {
   "codemirror_mode": {
    "name": "ipython",
    "version": 3
   },
   "file_extension": ".py",
   "mimetype": "text/x-python",
   "name": "python",
   "nbconvert_exporter": "python",
   "pygments_lexer": "ipython3",
   "version": "3.9.7"
  }
 },
 "nbformat": 4,
 "nbformat_minor": 5
}

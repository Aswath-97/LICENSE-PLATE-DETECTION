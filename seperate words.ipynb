{
 "cells": [
  {
   "cell_type": "code",
   "execution_count": 14,
   "id": "24293aed",
   "metadata": {},
   "outputs": [],
   "source": [
    "import cv2\n",
    "import pytesseract"
   ]
  },
  {
   "cell_type": "code",
   "execution_count": 15,
   "id": "41d5465e",
   "metadata": {},
   "outputs": [],
   "source": [
    "pytesseract.pytesseract.tesseract_cmd = r'C:\\Program Files\\Tesseract-OCR\\tesseract.exe'"
   ]
  },
  {
   "cell_type": "code",
   "execution_count": 16,
   "id": "f87efbaa",
   "metadata": {},
   "outputs": [
    {
     "data": {
      "text/plain": [
       "array([[255, 255, 255, ..., 255, 255, 255],\n",
       "       [255, 255, 255, ..., 255, 255, 255],\n",
       "       [255, 255, 255, ..., 255, 255, 255],\n",
       "       ...,\n",
       "       [255, 255, 255, ..., 255, 255, 255],\n",
       "       [255, 255, 255, ..., 255, 255, 255],\n",
       "       [255, 255, 255, ..., 255, 255, 255]], dtype=uint8)"
      ]
     },
     "execution_count": 16,
     "metadata": {},
     "output_type": "execute_result"
    }
   ],
   "source": [
    "img = cv2.imread(\"C:\\\\Users\\\\naray\\\\OneDrive\\\\Desktop\\\\text image.png\",0)\n",
    "img"
   ]
  },
  {
   "cell_type": "code",
   "execution_count": 17,
   "id": "879e0a11",
   "metadata": {},
   "outputs": [
    {
     "name": "stdout",
     "output_type": "stream",
     "text": [
      "It was the best of\n",
      "times, it was the worst\n",
      "of times, it was the age\n",
      "of wisdom, it was the\n",
      "age of foolishness...\n",
      "\n"
     ]
    }
   ],
   "source": [
    "print(pytesseract.image_to_string(img))"
   ]
  },
  {
   "cell_type": "code",
   "execution_count": 18,
   "id": "f6ff8fd0",
   "metadata": {},
   "outputs": [],
   "source": [
    "hI,wI = img.shape\n",
    "boxes = pytesseract.image_to_data(img)"
   ]
  },
  {
   "cell_type": "code",
   "execution_count": 19,
   "id": "75f06032",
   "metadata": {},
   "outputs": [
    {
     "name": "stdout",
     "output_type": "stream",
     "text": [
      "level\tpage_num\tblock_num\tpar_num\tline_num\tword_num\tleft\ttop\twidth\theight\tconf\ttext\n",
      "1\t1\t0\t0\t0\t0\t0\t0\t700\t440\t-1\t\n",
      "2\t1\t1\t0\t0\t0\t19\t22\t666\t402\t-1\t\n",
      "3\t1\t1\t1\t0\t0\t19\t22\t666\t402\t-1\t\n",
      "4\t1\t1\t1\t1\t0\t21\t22\t510\t53\t-1\t\n",
      "5\t1\t1\t1\t1\t1\t21\t25\t46\t49\t96.394508\tIt\n",
      "5\t1\t1\t1\t1\t2\t85\t42\t106\t32\t96.394508\twas\n",
      "5\t1\t1\t1\t1\t3\t213\t23\t91\t51\t95.354317\tthe\n",
      "5\t1\t1\t1\t1\t4\t325\t22\t120\t53\t96.558151\tbest\n",
      "5\t1\t1\t1\t1\t5\t467\t23\t64\t51\t96.938232\tof\n",
      "4\t1\t1\t1\t2\t0\t19\t106\t655\t62\t-1\t\n",
      "5\t1\t1\t1\t2\t1\t19\t109\t173\t59\t96.297287\ttimes,\n",
      "5\t1\t1\t1\t2\t2\t215\t109\t41\t48\t96.692001\tit\n",
      "5\t1\t1\t1\t2\t3\t273\t125\t106\t32\t96.661537\twas\n",
      "5\t1\t1\t1\t2\t4\t401\t106\t92\t51\t96.580582\tthe\n",
      "5\t1\t1\t1\t2\t5\t511\t120\t163\t37\t96.880806\tworst\n",
      "4\t1\t1\t1\t3\t0\t19\t189\t666\t69\t-1\t\n",
      "5\t1\t1\t1\t3\t1\t19\t189\t65\t51\t96.749313\tof\n",
      "5\t1\t1\t1\t3\t2\t97\t192\t173\t59\t96.812141\ttimes,\n",
      "5\t1\t1\t1\t3\t3\t292\t192\t41\t48\t97.002319\tit\n",
      "5\t1\t1\t1\t3\t4\t351\t208\t106\t32\t95.951591\twas\n",
      "5\t1\t1\t1\t3\t5\t479\t189\t91\t51\t96.923134\tthe\n",
      "5\t1\t1\t1\t3\t6\t593\t208\t92\t50\t96.789124\tage\n",
      "4\t1\t1\t1\t4\t0\t19\t271\t617\t63\t-1\t\n",
      "5\t1\t1\t1\t4\t1\t19\t272\t65\t51\t96.914337\tof\n",
      "5\t1\t1\t1\t4\t2\t93\t271\t242\t63\t96.577286\twisdom,\n",
      "5\t1\t1\t1\t4\t3\t358\t276\t41\t46\t96.475685\tit\n",
      "5\t1\t1\t1\t4\t4\t416\t291\t106\t32\t96.082085\twas\n",
      "5\t1\t1\t1\t4\t5\t544\t272\t92\t51\t96.771637\tthe\n",
      "4\t1\t1\t1\t5\t0\t20\t354\t560\t70\t-1\t\n",
      "5\t1\t1\t1\t5\t1\t20\t374\t92\t50\t96.732079\tage\n",
      "5\t1\t1\t1\t5\t2\t134\t354\t65\t52\t96.715485\tof\n",
      "5\t1\t1\t1\t5\t3\t213\t354\t367\t52\t96.137169\tfoolishness...\n",
      "\n"
     ]
    }
   ],
   "source": [
    "print(boxes)"
   ]
  },
  {
   "cell_type": "code",
   "execution_count": 20,
   "id": "08a4c130",
   "metadata": {},
   "outputs": [
    {
     "name": "stdout",
     "output_type": "stream",
     "text": [
      "['1', '1', '0', '0', '0', '0', '0', '0', '700', '440', '-1']\n",
      "['2', '1', '1', '0', '0', '0', '19', '22', '666', '402', '-1']\n",
      "['3', '1', '1', '1', '0', '0', '19', '22', '666', '402', '-1']\n",
      "['4', '1', '1', '1', '1', '0', '21', '22', '510', '53', '-1']\n",
      "['5', '1', '1', '1', '1', '1', '21', '25', '46', '49', '96.394508', 'It']\n",
      "['5', '1', '1', '1', '1', '2', '85', '42', '106', '32', '96.394508', 'was']\n",
      "['5', '1', '1', '1', '1', '3', '213', '23', '91', '51', '95.354317', 'the']\n",
      "['5', '1', '1', '1', '1', '4', '325', '22', '120', '53', '96.558151', 'best']\n",
      "['5', '1', '1', '1', '1', '5', '467', '23', '64', '51', '96.938232', 'of']\n",
      "['4', '1', '1', '1', '2', '0', '19', '106', '655', '62', '-1']\n",
      "['5', '1', '1', '1', '2', '1', '19', '109', '173', '59', '96.297287', 'times,']\n",
      "['5', '1', '1', '1', '2', '2', '215', '109', '41', '48', '96.692001', 'it']\n",
      "['5', '1', '1', '1', '2', '3', '273', '125', '106', '32', '96.661537', 'was']\n",
      "['5', '1', '1', '1', '2', '4', '401', '106', '92', '51', '96.580582', 'the']\n",
      "['5', '1', '1', '1', '2', '5', '511', '120', '163', '37', '96.880806', 'worst']\n",
      "['4', '1', '1', '1', '3', '0', '19', '189', '666', '69', '-1']\n",
      "['5', '1', '1', '1', '3', '1', '19', '189', '65', '51', '96.749313', 'of']\n",
      "['5', '1', '1', '1', '3', '2', '97', '192', '173', '59', '96.812141', 'times,']\n",
      "['5', '1', '1', '1', '3', '3', '292', '192', '41', '48', '97.002319', 'it']\n",
      "['5', '1', '1', '1', '3', '4', '351', '208', '106', '32', '95.951591', 'was']\n",
      "['5', '1', '1', '1', '3', '5', '479', '189', '91', '51', '96.923134', 'the']\n",
      "['5', '1', '1', '1', '3', '6', '593', '208', '92', '50', '96.789124', 'age']\n",
      "['4', '1', '1', '1', '4', '0', '19', '271', '617', '63', '-1']\n",
      "['5', '1', '1', '1', '4', '1', '19', '272', '65', '51', '96.914337', 'of']\n",
      "['5', '1', '1', '1', '4', '2', '93', '271', '242', '63', '96.577286', 'wisdom,']\n",
      "['5', '1', '1', '1', '4', '3', '358', '276', '41', '46', '96.475685', 'it']\n",
      "['5', '1', '1', '1', '4', '4', '416', '291', '106', '32', '96.082085', 'was']\n",
      "['5', '1', '1', '1', '4', '5', '544', '272', '92', '51', '96.771637', 'the']\n",
      "['4', '1', '1', '1', '5', '0', '20', '354', '560', '70', '-1']\n",
      "['5', '1', '1', '1', '5', '1', '20', '374', '92', '50', '96.732079', 'age']\n",
      "['5', '1', '1', '1', '5', '2', '134', '354', '65', '52', '96.715485', 'of']\n",
      "['5', '1', '1', '1', '5', '3', '213', '354', '367', '52', '96.137169', 'foolishness...']\n"
     ]
    }
   ],
   "source": [
    "for x,b in enumerate(boxes.splitlines()) :\n",
    "    if x != 0 :\n",
    "        b = b.split()\n",
    "        print(b)\n",
    "        if len(b) == 12 :\n",
    "            \n",
    "            x,y,w,h = int(b[6]),int(b[7]),int(b[8]),int(b[9])\n",
    "            cv2.rectangle(img,(x,y),(w+x,h+y),(0,0,255),3)\n",
    "            "
   ]
  },
  {
   "cell_type": "code",
   "execution_count": 21,
   "id": "9116ae01",
   "metadata": {},
   "outputs": [],
   "source": [
    "cv2.imshow('TEXT IMAGE',img)\n",
    "cv2.waitKey(0)\n",
    "cv2.destroyAllWindows()"
   ]
  },
  {
   "cell_type": "code",
   "execution_count": null,
   "id": "6b64d9d5",
   "metadata": {},
   "outputs": [],
   "source": []
  }
 ],
 "metadata": {
  "kernelspec": {
   "display_name": "Python 3 (ipykernel)",
   "language": "python",
   "name": "python3"
  },
  "language_info": {
   "codemirror_mode": {
    "name": "ipython",
    "version": 3
   },
   "file_extension": ".py",
   "mimetype": "text/x-python",
   "name": "python",
   "nbconvert_exporter": "python",
   "pygments_lexer": "ipython3",
   "version": "3.9.7"
  }
 },
 "nbformat": 4,
 "nbformat_minor": 5
}
